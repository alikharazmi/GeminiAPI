{
  "nbformat": 4,
  "nbformat_minor": 0,
  "metadata": {
    "colab": {
      "provenance": [],
      "authorship_tag": "ABX9TyMORAJzgpeolBszgDv3h480"
    },
    "kernelspec": {
      "name": "python3",
      "display_name": "Python 3"
    },
    "language_info": {
      "name": "python"
    }
  },
  "cells": [
    {
      "cell_type": "markdown",
      "source": [
        "# Testing the Gemini in Colab\n",
        "\n",
        "this is using the REST API and runnig Curl command first"
      ],
      "metadata": {
        "id": "6TFUI6F_0UOq"
      }
    },
    {
      "cell_type": "code",
      "source": [
        "import os\n",
        "from google.colab import userdata\n",
        "\n",
        "os.environ['API_KEY'] = userdata.get('Gemini_key')\n"
      ],
      "metadata": {
        "id": "7qGX77uZ0Z-a"
      },
      "execution_count": null,
      "outputs": []
    },
    {
      "cell_type": "code",
      "source": [
        "import json\n",
        "import os\n",
        "import pprint\n",
        "\n",
        "curl = \"\"\"\n",
        "curl https://generativelanguage.googleapis.com/v1beta/models/gemini-pro:generateContent?key=$API_KEY \\\n",
        "    -H 'Content-Type: application/json' \\\n",
        "    -X POST \\\n",
        "    -d '{\n",
        "      \"contents\": [{\n",
        "        \"parts\":[{\n",
        "          \"text\": \"Write a story about a magic backpack.\"}]}]}' 2> /dev/null\n",
        "\"\"\"\n",
        "\n",
        "# run curl comand and load response into a json dict\n",
        "response = json.loads(os.popen(curl).read())\n",
        "\n",
        "import pprint\n",
        "pprint.pprint(response)"
      ],
      "metadata": {
        "id": "8RW87XDI2d-2"
      },
      "execution_count": null,
      "outputs": []
    },
    {
      "cell_type": "markdown",
      "source": [
        "# Second Try using all python notebook"
      ],
      "metadata": {
        "id": "QoSAFQDu41Ig"
      }
    },
    {
      "cell_type": "code",
      "source": [
        "pip install -q -U google-generativeai"
      ],
      "metadata": {
        "id": "YbC07ZxQ1Y5A"
      },
      "execution_count": null,
      "outputs": []
    },
    {
      "cell_type": "code",
      "source": [
        "# load API key\n",
        "import os\n",
        "from google.colab import userdata\n",
        "\n",
        "GOOGLE_API_KEY=userdata.get('Gemini_key')\n",
        "genai.configure(api_key=GOOGLE_API_KEY)\n",
        "\n",
        "# load other necessary packages\n",
        "\n",
        "import pathlib\n",
        "import textwrap\n",
        "\n",
        "import google.generativeai as genai\n",
        "\n",
        "from IPython.display import display\n",
        "from IPython.display import Markdown\n",
        "\n",
        "\n",
        "def to_markdown(text):\n",
        "  text = text.replace('•', '  *')\n",
        "  return Markdown(textwrap.indent(text, '> ', predicate=lambda _: True))"
      ],
      "metadata": {
        "id": "i7igTbsY5Wst"
      },
      "execution_count": null,
      "outputs": []
    },
    {
      "cell_type": "code",
      "source": [
        "for m in genai.list_models():\n",
        "  if 'generateContent' in m.supported_generation_methods:\n",
        "    print(m.name)"
      ],
      "metadata": {
        "colab": {
          "base_uri": "https://localhost:8080/",
          "height": 121
        },
        "id": "MRyHCSh-6CaI",
        "outputId": "7abe25f7-d7ca-40a8-ea32-59810e37474e"
      },
      "execution_count": null,
      "outputs": [
        {
          "output_type": "stream",
          "name": "stdout",
          "text": [
            "models/gemini-1.0-pro\n",
            "models/gemini-1.0-pro-001\n",
            "models/gemini-1.0-pro-latest\n",
            "models/gemini-1.0-pro-vision-latest\n",
            "models/gemini-pro\n",
            "models/gemini-pro-vision\n"
          ]
        }
      ]
    },
    {
      "cell_type": "markdown",
      "source": [
        "## Generate text from text inputs\n",
        "\n",
        "For text-only prompts, use the `gemini-pro` model:"
      ],
      "metadata": {
        "id": "XDxLvWw76WVs"
      }
    },
    {
      "cell_type": "code",
      "source": [
        "%%time\n",
        "model = genai.GenerativeModel('gemini-pro')\n",
        "response = model.generate_content(\"write me a short poem about mazda miata\")\n",
        "to_markdown(response.text)"
      ],
      "metadata": {
        "colab": {
          "base_uri": "https://localhost:8080/",
          "height": 277
        },
        "id": "eyXPZh186YCM",
        "outputId": "3555d6fe-f522-456f-89c7-ad57e2cc968d"
      },
      "execution_count": null,
      "outputs": [
        {
          "output_type": "stream",
          "name": "stdout",
          "text": [
            "CPU times: user 152 ms, sys: 12.3 ms, total: 164 ms\n",
            "Wall time: 11.7 s\n"
          ]
        },
        {
          "output_type": "execute_result",
          "data": {
            "text/plain": [
              "<IPython.core.display.Markdown object>"
            ],
            "text/markdown": "> In the realm of dreams, where legends take form,\n> Lies a roadster so sleek, its beauty will charm.\n> With curves that entice and a soul so refined,\n> The Mazda Miata, a masterpiece of time.\n> \n> Its compact frame, a symphony of grace,\n> Carries a heart that beats with unbridled pace.\n> A symphony of power, a dance on the road,\n> As the Miata's engine sings its melodic ode.\n> \n> Beneath the open sky, its top caressed by the breeze,\n> It dances through corners with effortless ease.\n> A nimble companion, a friend so true,\n> The Miata invites you to leave the old and embrace the new.\n> \n> With each turn of the key, a surge of delight,\n> As the Miata's spirit takes flight.\n> It whispers secrets of freedom and joy,\n> As it carries you forth, a pure unadulterated toy.\n> \n> So let the wind rush through your hair,\n> As the Miata's symphony fills the air.\n> In this realm of dreams, where legends reside,\n> The Mazda Miata, a timeless ride."
          },
          "metadata": {},
          "execution_count": 19
        }
      ]
    },
    {
      "cell_type": "code",
      "source": [
        "response.candidates\n"
      ],
      "metadata": {
        "id": "wttN_cNF8SkW"
      },
      "execution_count": null,
      "outputs": []
    },
    {
      "cell_type": "markdown",
      "source": [
        "# just passing pictures to Gemini:\n"
      ],
      "metadata": {
        "id": "mkN8HT6K85TQ"
      }
    },
    {
      "cell_type": "code",
      "source": [
        "!curl -o image.jpg https://t0.gstatic.com/licensed-image?q=tbn:ANd9GcQ_Kevbk21QBRy-PgB4kQpS79brbmmEG7m3VOTShAn4PecDU5H5UxrJxE3Dw1JiaG17V88QIol19-3TM2wCHw"
      ],
      "metadata": {
        "colab": {
          "base_uri": "https://localhost:8080/"
        },
        "id": "KRbaGbCK845U",
        "outputId": "66df0516-2c5a-4278-d505-ab4cb4480739"
      },
      "execution_count": null,
      "outputs": [
        {
          "output_type": "stream",
          "name": "stdout",
          "text": [
            "  % Total    % Received % Xferd  Average Speed   Time    Time     Time  Current\n",
            "                                 Dload  Upload   Total   Spent    Left  Speed\n",
            "\r  0     0    0     0    0     0      0      0 --:--:-- --:--:-- --:--:--     0\r100  405k  100  405k    0     0  4990k      0 --:--:-- --:--:-- --:--:-- 5000k\n"
          ]
        }
      ]
    },
    {
      "cell_type": "code",
      "source": [
        "!curl -o image2.jpg https://upload.wikimedia.org/wikipedia/commons/thumb/b/b3/Wikipedia-logo-v2-en.svg/800px-Wikipedia-logo-v2-en.svg.png"
      ],
      "metadata": {
        "colab": {
          "base_uri": "https://localhost:8080/"
        },
        "id": "-On0wqDd_B8-",
        "outputId": "cafb3dc7-ec30-4a33-d406-e57f3939ee6a"
      },
      "execution_count": null,
      "outputs": [
        {
          "output_type": "stream",
          "name": "stdout",
          "text": [
            "  % Total    % Received % Xferd  Average Speed   Time    Time     Time  Current\n",
            "                                 Dload  Upload   Total   Spent    Left  Speed\n",
            "100  217k  100  217k    0     0   573k      0 --:--:-- --:--:-- --:--:--  573k\n"
          ]
        }
      ]
    },
    {
      "cell_type": "code",
      "source": [
        "!curl -o cat.jpg https://upload.wikimedia.org/wikipedia/commons/1/15/Cat_August_2010-4.jpg"
      ],
      "metadata": {
        "colab": {
          "base_uri": "https://localhost:8080/"
        },
        "id": "CkYVEVQkB4je",
        "outputId": "399fba73-3172-4a38-f278-889d95393aa1"
      },
      "execution_count": null,
      "outputs": [
        {
          "output_type": "stream",
          "name": "stdout",
          "text": [
            "  % Total    % Received % Xferd  Average Speed   Time    Time     Time  Current\n",
            "                                 Dload  Upload   Total   Spent    Left  Speed\n",
            "100 4523k  100 4523k    0     0  7987k      0 --:--:-- --:--:-- --:--:-- 7992k\n"
          ]
        }
      ]
    },
    {
      "cell_type": "code",
      "source": [
        "! curl -o dog.jpg https://upload.wikimedia.org/wikipedia/commons/thumb/9/90/Labrador_Retriever_portrait.jpg/1920px-Labrador_Retriever_portrait.jpg"
      ],
      "metadata": {
        "colab": {
          "base_uri": "https://localhost:8080/"
        },
        "id": "KJFD2tCdCIgh",
        "outputId": "4ef445b7-940b-40a5-debf-da4d4385642c"
      },
      "execution_count": null,
      "outputs": [
        {
          "output_type": "stream",
          "name": "stdout",
          "text": [
            "  % Total    % Received % Xferd  Average Speed   Time    Time     Time  Current\n",
            "                                 Dload  Upload   Total   Spent    Left  Speed\n",
            "100  407k  100  407k    0     0   747k      0 --:--:-- --:--:-- --:--:--  748k\n"
          ]
        }
      ]
    },
    {
      "cell_type": "code",
      "source": [
        "import PIL.Image\n",
        "\n",
        "img = PIL.Image.open('image2.jpg')"
      ],
      "metadata": {
        "id": "Ey4AI4e8-TRh"
      },
      "execution_count": null,
      "outputs": []
    },
    {
      "cell_type": "code",
      "source": [
        "model = genai.GenerativeModel('gemini-pro-vision')\n",
        "\n",
        "response = model.generate_content(img)\n",
        "\n",
        "to_markdown(response.text)"
      ],
      "metadata": {
        "colab": {
          "base_uri": "https://localhost:8080/",
          "height": 114
        },
        "id": "l1tq4B1K_d7w",
        "outputId": "316c4caf-8797-41a7-bbaa-fa62d3c25eed"
      },
      "execution_count": null,
      "outputs": [
        {
          "output_type": "execute_result",
          "data": {
            "text/plain": [
              "<IPython.core.display.Markdown object>"
            ],
            "text/markdown": ">  The Wikipedia logo is a puzzle sphere made up of interlocking puzzle pieces. The sphere is divided into 25 pieces, each of which is a different color. The colors represent the different languages in which Wikipedia is available. The puzzle pieces are also arranged in a way that suggests that they are all connected, which represents the fact that Wikipedia is a collaborative project that is constantly being updated and improved by people from all over the world."
          },
          "metadata": {},
          "execution_count": 46
        }
      ]
    },
    {
      "cell_type": "markdown",
      "source": [
        "## text and image together"
      ],
      "metadata": {
        "id": "c1yqhlUnDuKu"
      }
    },
    {
      "cell_type": "code",
      "source": [
        "img_c = PIL.Image.open('cat.jpg')\n",
        "img_d = PIL.Image.open('dog.jpg')"
      ],
      "metadata": {
        "id": "4oINr3WDDlhK"
      },
      "execution_count": null,
      "outputs": []
    },
    {
      "cell_type": "code",
      "source": [
        "model = genai.GenerativeModel('gemini-pro-vision')\n",
        "prompt='what is the difference between these images?'\n",
        "\n",
        "\n",
        "response = model.generate_content([prompt, img_c,img_d], stream=True)\n",
        "response.resolve()\n",
        "to_markdown(response.text)"
      ],
      "metadata": {
        "colab": {
          "base_uri": "https://localhost:8080/",
          "height": 62
        },
        "id": "t0ODix5UDl9h",
        "outputId": "c32eee07-b20d-4259-ffb8-15bec162b42e"
      },
      "execution_count": null,
      "outputs": [
        {
          "output_type": "execute_result",
          "data": {
            "text/plain": [
              "<IPython.core.display.Markdown object>"
            ],
            "text/markdown": ">  The first image is of a cat, and the second image is of a dog."
          },
          "metadata": {},
          "execution_count": 48
        }
      ]
    },
    {
      "cell_type": "markdown",
      "source": [
        "## Chat with gemini"
      ],
      "metadata": {
        "id": "kw1LUjwsF7H4"
      }
    },
    {
      "cell_type": "code",
      "source": [
        "model = genai.GenerativeModel('gemini-pro')\n",
        "chat = model.start_chat(history=[])\n",
        "chat"
      ],
      "metadata": {
        "colab": {
          "base_uri": "https://localhost:8080/"
        },
        "id": "BpMuefETF6Ml",
        "outputId": "b5322b54-b609-474b-a0a9-24219bd8e28b"
      },
      "execution_count": null,
      "outputs": [
        {
          "output_type": "execute_result",
          "data": {
            "text/plain": [
              "<google.generativeai.generative_models.ChatSession at 0x7bdeda394400>"
            ]
          },
          "metadata": {},
          "execution_count": 49
        }
      ]
    },
    {
      "cell_type": "code",
      "source": [
        "response = chat.send_message(\"it was rainy today so no good\")\n",
        "to_markdown(response.text)"
      ],
      "metadata": {
        "colab": {
          "base_uri": "https://localhost:8080/",
          "height": 167
        },
        "id": "LAkVg86vGB6W",
        "outputId": "2676116d-eae6-495a-df18-0930ef63c42e"
      },
      "execution_count": null,
      "outputs": [
        {
          "output_type": "execute_result",
          "data": {
            "text/plain": [
              "<IPython.core.display.Markdown object>"
            ],
            "text/markdown": "> **Tranquil**\n> \n> Rainy weather can be tranquil and serene, providing a sense of peace and relaxation. The pitter-patter of raindrops, the smell of fresh rain, and the lush greenery that often accompanies rainy days can be soothing and calming.\n> \n> Rainy weather is also a great time to curl up indoors with a good book, a warm cup of tea, and the sound of rain outside. It can be a welcome respite from the hustle and bustle of everyday life, allowing you to slow down and appreciate the simple things.\n> \n> While rainy weather may not be ideal for outdoor activities, it can be a wonderful opportunity to unwind, recharge, and connect with your inner self."
          },
          "metadata": {},
          "execution_count": 52
        }
      ]
    },
    {
      "cell_type": "code",
      "source": [
        "for message in chat.history:\n",
        "  display(to_markdown(f'**{message.role}**: {message.parts[0].text}'))"
      ],
      "metadata": {
        "colab": {
          "base_uri": "https://localhost:8080/",
          "height": 1000
        },
        "id": "gDM9DwqKGpjv",
        "outputId": "0a8b466b-77fb-404f-b6aa-2fcccfcc7e27"
      },
      "execution_count": null,
      "outputs": [
        {
          "output_type": "display_data",
          "data": {
            "text/plain": [
              "<IPython.core.display.Markdown object>"
            ],
            "text/markdown": "> **user**: how many dogs should I adopt?"
          },
          "metadata": {}
        },
        {
          "output_type": "display_data",
          "data": {
            "text/plain": [
              "<IPython.core.display.Markdown object>"
            ],
            "text/markdown": "> **model**: The number of dogs you should adopt depends on several factors such as your lifestyle, living space, financial resources, and time commitment. Here are some considerations to help you decide:\n> \n> **1. Lifestyle:**\n> \n> - Do you have an active lifestyle and enjoy spending time outdoors? If so, adopting an energetic breed that requires regular exercise might be a suitable choice.\n> - Do you prefer a more relaxed lifestyle and enjoy cuddles? If so, a less active breed might be a better fit.\n> \n> **2. Living Space:**\n> \n> - How much space do you have in your home or apartment? Some breeds require more space to roam and play, while others can adapt to smaller living quarters.\n> - Consider the size of the dog when fully grown to ensure it has enough space to move comfortably.\n> \n> **3. Financial Resources:**\n> \n> - Owning a dog involves various expenses, including food, veterinary care, grooming, toys, and possibly pet insurance.\n> - Evaluate your financial situation to determine if you can comfortably afford the costs associated with dog ownership.\n> \n> **4. Time Commitment:**\n> \n> - Dogs require attention, love, and training. Consider how much time you can dedicate to walks, playtime, training sessions, and vet appointments.\n> - Some breeds require more mental and physical stimulation than others, so research the breed's requirements before making a decision.\n> \n> **5. Family Situation:**\n> \n> - If you have young children, consider adopting a breed known for being gentle and patient with kids.\n> - If you have other pets, ensure the new dog will be compatible with them.\n> \n> **6. Experience and Knowledge:**\n> \n> - If you're a first-time dog owner, opt for a breed known for being easy to train and suitable for novice owners.\n> - Consider attending obedience classes or hiring a professional dog trainer to help you bond with your new pet and establish good behaviors.\n> \n> **7. Breed Research:**\n> \n> - Research different dog breeds to understand their unique characteristics, temperaments, and exercise requirements.\n> - Choose a breed that aligns with your lifestyle, living space, and energy level.\n> \n> **8. Adoption from Shelters or Rescues:**\n> \n> - Consider adopting a dog from a local animal shelter or rescue organization. These organizations often have dogs of various breeds, ages, and temperaments, and they can provide valuable information about their personalities and needs.\n> \n> **9. Start with One Dog:**\n> \n> - If you're a first-time dog owner, starting with one dog is advisable. This allows you to focus on building a strong bond with your pet and learning the ropes of dog ownership.\n> \n> Remember that adopting a dog is a long-term commitment. Before making a decision, carefully consider all the factors involved and ensure you're prepared to provide your new furry friend with a loving and responsible home for its entire life."
          },
          "metadata": {}
        },
        {
          "output_type": "display_data",
          "data": {
            "text/plain": [
              "<IPython.core.display.Markdown object>"
            ],
            "text/markdown": "> **user**: in one word which weather type is better?"
          },
          "metadata": {}
        },
        {
          "output_type": "display_data",
          "data": {
            "text/plain": [
              "<IPython.core.display.Markdown object>"
            ],
            "text/markdown": "> **model**: **Pleasant**\n> \n> Pleasant weather is generally mild, comfortable, and enjoyable to be in. It is characterized by moderate temperatures, low humidity, and clear or partly cloudy skies. Pleasant weather is often associated with sunshine, gentle breezes, and the absence of extreme weather events such as storms, heat waves, or cold snaps.\n> \n> Pleasant weather is suitable for a wide range of outdoor activities, such as walking, hiking, biking, gardening, and picnicking. It is also conducive to relaxation and spending time outdoors without feeling too hot, cold, or uncomfortable."
          },
          "metadata": {}
        },
        {
          "output_type": "display_data",
          "data": {
            "text/plain": [
              "<IPython.core.display.Markdown object>"
            ],
            "text/markdown": "> **user**: it was rainy today so no good"
          },
          "metadata": {}
        },
        {
          "output_type": "display_data",
          "data": {
            "text/plain": [
              "<IPython.core.display.Markdown object>"
            ],
            "text/markdown": "> **model**: **Tranquil**\n> \n> Rainy weather can be tranquil and serene, providing a sense of peace and relaxation. The pitter-patter of raindrops, the smell of fresh rain, and the lush greenery that often accompanies rainy days can be soothing and calming.\n> \n> Rainy weather is also a great time to curl up indoors with a good book, a warm cup of tea, and the sound of rain outside. It can be a welcome respite from the hustle and bustle of everyday life, allowing you to slow down and appreciate the simple things.\n> \n> While rainy weather may not be ideal for outdoor activities, it can be a wonderful opportunity to unwind, recharge, and connect with your inner self."
          },
          "metadata": {}
        }
      ]
    }
  ]
}