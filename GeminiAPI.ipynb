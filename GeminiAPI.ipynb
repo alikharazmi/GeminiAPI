{
  "nbformat": 4,
  "nbformat_minor": 0,
  "metadata": {
    "colab": {
      "provenance": [],
      "authorship_tag": "ABX9TyMGBC30sWH0A8Uc+kDKAfIW"
    },
    "kernelspec": {
      "name": "python3",
      "display_name": "Python 3"
    },
    "language_info": {
      "name": "python"
    }
  },
  "cells": [
    {
      "cell_type": "markdown",
      "source": [
        "# Google Gemini API\n",
        "\n",
        "Play and learn.\n",
        "\n",
        "### Dependencies\n",
        "\n",
        "install dependencies first.\n",
        "\n"
      ],
      "metadata": {
        "id": "6TFUI6F_0UOq"
      }
    },
    {
      "cell_type": "code",
      "source": [
        "pip install -q -U google-generativeai"
      ],
      "metadata": {
        "id": "YbC07ZxQ1Y5A"
      },
      "execution_count": 1,
      "outputs": []
    },
    {
      "cell_type": "markdown",
      "source": [
        "### API key\n",
        "save the API key as `Gemini_key` in google environment variable."
      ],
      "metadata": {
        "id": "WOhaaQsm7vNM"
      }
    },
    {
      "cell_type": "code",
      "source": [
        "# get the API key from google environement variable.\n",
        "import os\n",
        "from google.colab import userdata\n",
        "import google.generativeai as genai\n",
        "\n",
        "\n",
        "GOOGLE_API_KEY=userdata.get('Gemini_key')\n",
        "genai.configure(api_key=GOOGLE_API_KEY)\n"
      ],
      "metadata": {
        "id": "7qGX77uZ0Z-a"
      },
      "execution_count": 4,
      "outputs": []
    },
    {
      "cell_type": "markdown",
      "source": [
        "## Markdown Dependencies\n",
        "install required libraries for markdown and define a pretty markdown display function.\n"
      ],
      "metadata": {
        "id": "g_OuY0Ce7dTq"
      }
    },
    {
      "cell_type": "code",
      "source": [
        "# load other necessary packages\n",
        "\n",
        "import pathlib\n",
        "import textwrap\n",
        "\n",
        "from IPython.display import display\n",
        "from IPython.display import Markdown\n",
        "\n",
        "\n",
        "def to_markdown(text):\n",
        "  text = text.replace('•', '  *')\n",
        "  return Markdown(textwrap.indent(text, '> ', predicate=lambda _: True))"
      ],
      "metadata": {
        "id": "i7igTbsY5Wst"
      },
      "execution_count": 5,
      "outputs": []
    },
    {
      "cell_type": "markdown",
      "source": [
        "## GenAI available models:\n",
        "\n",
        "These are all the available models in google generative AI package as of today:"
      ],
      "metadata": {
        "id": "7KKx9wGr84AR"
      }
    },
    {
      "cell_type": "code",
      "source": [
        "for m in genai.list_models():\n",
        "  if 'generateContent' in m.supported_generation_methods:\n",
        "    print(m.name)"
      ],
      "metadata": {
        "colab": {
          "base_uri": "https://localhost:8080/",
          "height": 121
        },
        "id": "MRyHCSh-6CaI",
        "outputId": "64517784-e760-4b90-8834-68f30a66c248"
      },
      "execution_count": 6,
      "outputs": [
        {
          "output_type": "stream",
          "name": "stdout",
          "text": [
            "models/gemini-1.0-pro\n",
            "models/gemini-1.0-pro-001\n",
            "models/gemini-1.0-pro-latest\n",
            "models/gemini-1.0-pro-vision-latest\n",
            "models/gemini-pro\n",
            "models/gemini-pro-vision\n"
          ]
        }
      ]
    },
    {
      "cell_type": "markdown",
      "source": [
        "## Generate text from text inputs\n",
        "\n",
        "For text-only prompts, use the `gemini-pro` model.\n",
        "\n",
        "write a message in prompt and pass it to gemini-pro model.\n",
        "\n",
        "if interested you can look at other available reponse by running `response.candidates`."
      ],
      "metadata": {
        "id": "XDxLvWw76WVs"
      }
    },
    {
      "cell_type": "code",
      "source": [
        "#%%time\n",
        "model    = genai.GenerativeModel('gemini-pro')\n",
        "prompt   =  'write me a short poem about a red car'\n",
        "response = model.generate_content(prompt)\n",
        "to_markdown(response.text)"
      ],
      "metadata": {
        "colab": {
          "base_uri": "https://localhost:8080/",
          "height": 208
        },
        "id": "eyXPZh186YCM",
        "outputId": "1aac467a-d181-45c1-edd3-acd89eafaed1"
      },
      "execution_count": 7,
      "outputs": [
        {
          "output_type": "execute_result",
          "data": {
            "text/plain": [
              "<IPython.core.display.Markdown object>"
            ],
            "text/markdown": "> In a world of colors, a vibrant hue,\n> A fiery chariot, a scarlet view.\n> Red car, you gleam, a passionate sight,\n> Your sleek curves, a captivating flight.\n> \n> Your glossy paint, a fiery kiss,\n> Beneath the sun, your beauty's abyss.\n> Heads turn, eyes dance, as you glide by,\n> A symphony of hearts, you make them sigh.\n> \n> Through city streets, you're a blazing trail,\n> A rush of adrenaline, a thrilling tale.\n> With every turn, you leave a mark,\n> A scarlet streak, an indelible spark.\n> \n> Red car, you're more than just a ride,\n> You're a symbol of freedom, a source of pride.\n> Your roar, a melody, your presence divine,\n> In your embrace, dreams intertwine.\n> \n> So let the wind flow, let the engine soar,\n> Red car, you're a legend, forevermore.\n> In your fiery dance, we find release,\n> A symphony of speed, a moment of peace."
          },
          "metadata": {},
          "execution_count": 7
        }
      ]
    },
    {
      "cell_type": "markdown",
      "source": [
        "## Text/Image to text model:\n",
        "\n",
        "Here we try to pass a prompt as well as pictures to `gemini-pro-vision` model and generate a response.\n",
        "\n",
        "API is designed to handle multimodal prompts and returns a text output.\n",
        "\n",
        "The following images are pulled from web and might not be available by the time you run the code. so feel free to change them as you wish.\n"
      ],
      "metadata": {
        "id": "mkN8HT6K85TQ"
      }
    },
    {
      "cell_type": "code",
      "source": [
        "# gettig some generic pictures from web\n",
        "!curl -o image.jpg https://t0.gstatic.com/licensed-image?q=tbn:ANd9GcQ_Kevbk21QBRy-PgB4kQpS79brbmmEG7m3VOTShAn4PecDU5H5UxrJxE3Dw1JiaG17V88QIol19-3TM2wCHw\n",
        "!curl -o image2.jpg https://upload.wikimedia.org/wikipedia/commons/thumb/b/b3/Wikipedia-logo-v2-en.svg/800px-Wikipedia-logo-v2-en.svg.png\n",
        "!curl -o cat.jpg https://upload.wikimedia.org/wikipedia/commons/1/15/Cat_August_2010-4.jpg\n",
        "!curl -o dog.jpg https://upload.wikimedia.org/wikipedia/commons/thumb/9/90/Labrador_Retriever_portrait.jpg/1920px-Labrador_Retriever_portrait.jpg"
      ],
      "metadata": {
        "colab": {
          "base_uri": "https://localhost:8080/"
        },
        "id": "KRbaGbCK845U",
        "outputId": "c29e27de-e61a-4087-be4b-34d328eaa449"
      },
      "execution_count": 10,
      "outputs": [
        {
          "output_type": "stream",
          "name": "stdout",
          "text": [
            "  % Total    % Received % Xferd  Average Speed   Time    Time     Time  Current\n",
            "                                 Dload  Upload   Total   Spent    Left  Speed\n",
            "100  405k  100  405k    0     0  5631k      0 --:--:-- --:--:-- --:--:-- 5705k\n",
            "  % Total    % Received % Xferd  Average Speed   Time    Time     Time  Current\n",
            "                                 Dload  Upload   Total   Spent    Left  Speed\n",
            "100  217k  100  217k    0     0  2191k      0 --:--:-- --:--:-- --:--:-- 2199k\n",
            "  % Total    % Received % Xferd  Average Speed   Time    Time     Time  Current\n",
            "                                 Dload  Upload   Total   Spent    Left  Speed\n",
            "100 4523k  100 4523k    0     0  18.8M      0 --:--:-- --:--:-- --:--:-- 18.7M\n",
            "  % Total    % Received % Xferd  Average Speed   Time    Time     Time  Current\n",
            "                                 Dload  Upload   Total   Spent    Left  Speed\n",
            "100  407k  100  407k    0     0  1877k      0 --:--:-- --:--:-- --:--:-- 1879k\n"
          ]
        }
      ]
    },
    {
      "cell_type": "markdown",
      "source": [
        "Let's print those images and see if they are pulled from web!"
      ],
      "metadata": {
        "id": "tzZPifsx-XEr"
      }
    },
    {
      "cell_type": "code",
      "source": [
        "import PIL.Image\n",
        "\n",
        "img = PIL.Image.open('image2.jpg')\n"
      ],
      "metadata": {
        "id": "Ey4AI4e8-TRh"
      },
      "execution_count": 13,
      "outputs": []
    },
    {
      "cell_type": "markdown",
      "source": [
        "### Only passing an image to the model\n",
        "\n",
        "if you only want to pass an image to the model here is how to do it.\n"
      ],
      "metadata": {
        "id": "ds0NsK0g-8td"
      }
    },
    {
      "cell_type": "code",
      "source": [
        "model = genai.GenerativeModel('gemini-pro-vision')\n",
        "\n",
        "response = model.generate_content(img)\n",
        "\n",
        "to_markdown(response.text)"
      ],
      "metadata": {
        "colab": {
          "base_uri": "https://localhost:8080/",
          "height": 62
        },
        "id": "l1tq4B1K_d7w",
        "outputId": "00a1c508-8dca-4327-a1b3-12473a512967"
      },
      "execution_count": 14,
      "outputs": [
        {
          "output_type": "execute_result",
          "data": {
            "text/plain": [
              "<IPython.core.display.Markdown object>"
            ],
            "text/markdown": ">  The Wikipedia logo is a puzzle sphere made up of puzzle pieces with different letters on each piece."
          },
          "metadata": {},
          "execution_count": 14
        }
      ]
    },
    {
      "cell_type": "markdown",
      "source": [
        "### Passing image & text to the model\n",
        "\n",
        "The API handles multimodal prompts. here we pass in two image and ask a question about it"
      ],
      "metadata": {
        "id": "c1yqhlUnDuKu"
      }
    },
    {
      "cell_type": "code",
      "source": [
        "img_c = PIL.Image.open('cat.jpg')\n",
        "img_d = PIL.Image.open('dog.jpg')\n",
        "\n",
        "model = genai.GenerativeModel('gemini-pro-vision')\n",
        "prompt='what is the difference between these images?'\n",
        "\n",
        "\n",
        "response = model.generate_content([prompt, img_c,img_d], stream=True)\n",
        "response.resolve()\n",
        "to_markdown(response.text)"
      ],
      "metadata": {
        "id": "4oINr3WDDlhK",
        "colab": {
          "base_uri": "https://localhost:8080/",
          "height": 62
        },
        "outputId": "68bd891d-c809-4150-af5f-e6aa7d9b1ffb"
      },
      "execution_count": 15,
      "outputs": [
        {
          "output_type": "execute_result",
          "data": {
            "text/plain": [
              "<IPython.core.display.Markdown object>"
            ],
            "text/markdown": ">  The first image is of a cat, and the second image is of a dog."
          },
          "metadata": {},
          "execution_count": 15
        }
      ]
    },
    {
      "cell_type": "markdown",
      "source": [
        "## Multi-turn conversation\n",
        "\n",
        "you can set up the chat history when starting the model. Here we used no history. but you can chat a bit with the model and print out the chat history to get the structure and use that as an input for the model."
      ],
      "metadata": {
        "id": "kw1LUjwsF7H4"
      }
    },
    {
      "cell_type": "code",
      "source": [
        "model = genai.GenerativeModel('gemini-pro')\n",
        "chat = model.start_chat(history=[])\n",
        "chat"
      ],
      "metadata": {
        "colab": {
          "base_uri": "https://localhost:8080/"
        },
        "id": "BpMuefETF6Ml",
        "outputId": "56512c97-1221-44bc-c8d9-6b7205831ff0"
      },
      "execution_count": 46,
      "outputs": [
        {
          "output_type": "execute_result",
          "data": {
            "text/plain": [
              "<google.generativeai.generative_models.ChatSession at 0x7cd66055ec20>"
            ]
          },
          "metadata": {},
          "execution_count": 46
        }
      ]
    },
    {
      "cell_type": "code",
      "source": [
        "response = chat.send_message('I am 177 lb and 6 feet tall. what is my BMI?')\n",
        "to_markdown(response.text)"
      ],
      "metadata": {
        "colab": {
          "base_uri": "https://localhost:8080/",
          "height": 203
        },
        "id": "LAkVg86vGB6W",
        "outputId": "c5ee16da-8f8a-4c7a-8773-269531cda3ee"
      },
      "execution_count": 47,
      "outputs": [
        {
          "output_type": "execute_result",
          "data": {
            "text/plain": [
              "<IPython.core.display.Markdown object>"
            ],
            "text/markdown": "> Your BMI (Body Mass Index) is 23.0.\n> \n> BMI is calculated using the formula: BMI = weight (kg) / [height (m)]^2\n> \n> To calculate your BMI in pounds and inches, you can use the following formula:\n> \n> BMI = weight (lb) x 703 / [height (in)]^2\n> \n> For your height of 6 feet, which is 72 inches, and a weight of 177 pounds, your BMI is:\n> \n> BMI = 177 x 703 / (72 x 72) = 23.0\n> \n> A BMI of 23.0 is considered to be in the normal range, according to the Centers for Disease Control and Prevention (CDC)."
          },
          "metadata": {},
          "execution_count": 47
        }
      ]
    },
    {
      "cell_type": "code",
      "source": [
        "response = chat.send_message('I am hungry. recommend just one high protein meal')\n",
        "to_markdown(response.text)"
      ],
      "metadata": {
        "colab": {
          "base_uri": "https://localhost:8080/",
          "height": 572
        },
        "id": "rWX5CuZtB1Y_",
        "outputId": "02ab8b0c-4bdc-478b-961d-414bcb63fd66"
      },
      "execution_count": 48,
      "outputs": [
        {
          "output_type": "execute_result",
          "data": {
            "text/plain": [
              "<IPython.core.display.Markdown object>"
            ],
            "text/markdown": "> **Grilled Salmon with Quinoa and Roasted Vegetables**\n> \n> **Ingredients:**\n> \n> * 1 salmon fillet (6-8 ounces)\n> * 1 tablespoon olive oil\n> * 1/4 teaspoon salt\n> * 1/4 teaspoon black pepper\n> * 1 cup quinoa, cooked\n> * 1 cup roasted vegetables (such as broccoli, carrots, and zucchini)\n> * 1/4 cup crumbled feta cheese (optional)\n> * 1 tablespoon chopped fresh herbs (such as parsley or cilantro)\n> \n> **Instructions:**\n> \n> 1. Preheat oven to 400°F (200°C).\n> 2. Season salmon fillet with salt and pepper.\n> 3. Heat olive oil in a large skillet over medium heat.\n> 4. Add salmon fillet to the skillet and cook for 3-4 minutes per side, or until cooked through.\n> 5. While the salmon is cooking, roast the vegetables. Toss the vegetables with a little olive oil and salt and pepper. Spread the vegetables on a baking sheet and roast in the oven for 15-20 minutes, or until tender.\n> 6. To assemble the meal, place the cooked salmon on a bed of quinoa. Top with roasted vegetables and crumbled feta cheese (if desired). Garnish with chopped fresh herbs.\n> \n> This meal is high in protein, thanks to the salmon and quinoa. It is also a good source of healthy fats from the olive oil and feta cheese, and fiber from the quinoa and vegetables.\n> \n> **Nutritional Information (per serving):**\n> \n> * Calories: 450\n> * Protein: 35 grams\n> * Fat: 20 grams\n> * Carbohydrates: 35 grams\n> * Fiber: 5 grams"
          },
          "metadata": {},
          "execution_count": 48
        }
      ]
    },
    {
      "cell_type": "code",
      "source": [
        "for message in chat.history:\n",
        "  display(to_markdown(f'**{message.role}**: {message.parts[0].text}'))"
      ],
      "metadata": {
        "colab": {
          "base_uri": "https://localhost:8080/",
          "height": 806
        },
        "id": "gDM9DwqKGpjv",
        "outputId": "b82c7c3b-b94e-4eab-cfa4-99f084b30c12"
      },
      "execution_count": 49,
      "outputs": [
        {
          "output_type": "display_data",
          "data": {
            "text/plain": [
              "<IPython.core.display.Markdown object>"
            ],
            "text/markdown": "> **user**: I am 177 lb and 6 feet tall. what is my BMI?"
          },
          "metadata": {}
        },
        {
          "output_type": "display_data",
          "data": {
            "text/plain": [
              "<IPython.core.display.Markdown object>"
            ],
            "text/markdown": "> **model**: Your BMI (Body Mass Index) is 23.0.\n> \n> BMI is calculated using the formula: BMI = weight (kg) / [height (m)]^2\n> \n> To calculate your BMI in pounds and inches, you can use the following formula:\n> \n> BMI = weight (lb) x 703 / [height (in)]^2\n> \n> For your height of 6 feet, which is 72 inches, and a weight of 177 pounds, your BMI is:\n> \n> BMI = 177 x 703 / (72 x 72) = 23.0\n> \n> A BMI of 23.0 is considered to be in the normal range, according to the Centers for Disease Control and Prevention (CDC)."
          },
          "metadata": {}
        },
        {
          "output_type": "display_data",
          "data": {
            "text/plain": [
              "<IPython.core.display.Markdown object>"
            ],
            "text/markdown": "> **user**: I am hungry. recommend just one high protein meal"
          },
          "metadata": {}
        },
        {
          "output_type": "display_data",
          "data": {
            "text/plain": [
              "<IPython.core.display.Markdown object>"
            ],
            "text/markdown": "> **model**: **Grilled Salmon with Quinoa and Roasted Vegetables**\n> \n> **Ingredients:**\n> \n> * 1 salmon fillet (6-8 ounces)\n> * 1 tablespoon olive oil\n> * 1/4 teaspoon salt\n> * 1/4 teaspoon black pepper\n> * 1 cup quinoa, cooked\n> * 1 cup roasted vegetables (such as broccoli, carrots, and zucchini)\n> * 1/4 cup crumbled feta cheese (optional)\n> * 1 tablespoon chopped fresh herbs (such as parsley or cilantro)\n> \n> **Instructions:**\n> \n> 1. Preheat oven to 400°F (200°C).\n> 2. Season salmon fillet with salt and pepper.\n> 3. Heat olive oil in a large skillet over medium heat.\n> 4. Add salmon fillet to the skillet and cook for 3-4 minutes per side, or until cooked through.\n> 5. While the salmon is cooking, roast the vegetables. Toss the vegetables with a little olive oil and salt and pepper. Spread the vegetables on a baking sheet and roast in the oven for 15-20 minutes, or until tender.\n> 6. To assemble the meal, place the cooked salmon on a bed of quinoa. Top with roasted vegetables and crumbled feta cheese (if desired). Garnish with chopped fresh herbs.\n> \n> This meal is high in protein, thanks to the salmon and quinoa. It is also a good source of healthy fats from the olive oil and feta cheese, and fiber from the quinoa and vegetables.\n> \n> **Nutritional Information (per serving):**\n> \n> * Calories: 450\n> * Protein: 35 grams\n> * Fat: 20 grams\n> * Carbohydrates: 35 grams\n> * Fiber: 5 grams"
          },
          "metadata": {}
        }
      ]
    }
  ]
}