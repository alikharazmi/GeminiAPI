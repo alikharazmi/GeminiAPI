{
  "nbformat": 4,
  "nbformat_minor": 0,
  "metadata": {
    "colab": {
      "provenance": [],
      "authorship_tag": "ABX9TyM6EOAD6BaZR//UoE/lXwUI",
      "include_colab_link": true
    },
    "kernelspec": {
      "name": "python3",
      "display_name": "Python 3"
    },
    "language_info": {
      "name": "python"
    }
  },
  "cells": [
    {
      "cell_type": "markdown",
      "metadata": {
        "id": "view-in-github",
        "colab_type": "text"
      },
      "source": [
        "<a href=\"https://colab.research.google.com/github/alikharazmi/GeminiAPI/blob/main/Leetcode_Array_Hashing_mediums.ipynb\" target=\"_parent\"><img src=\"https://colab.research.google.com/assets/colab-badge.svg\" alt=\"Open In Colab\"/></a>"
      ]
    },
    {
      "cell_type": "markdown",
      "source": [
        "### 49. Group Anagrams\n",
        "[link](https://leetcode.com/problems/group-anagrams/description/)\n",
        "```\n",
        "Medium\n",
        "```\n",
        "Given an array of strings strs, group the anagrams together. You can return the answer in any order.\n"
      ],
      "metadata": {
        "id": "HNnlioZxROa6"
      }
    },
    {
      "cell_type": "code",
      "source": [
        "# attempt 1 - using sort that is not quite the best because of O(n.logn)\n",
        "\n",
        "from collections import defaultdict\n",
        "strs = [\"eat\",\"tea\",\"tan\",\"ate\",\"nat\",\"bat\"]\n",
        "\n",
        "dict=defaultdict(list)\n",
        "\n",
        "for word in strs:\n",
        "  key=''.join(sorted(word))\n",
        "  # print(key)\n",
        "  dict[key].append(word)\n",
        "\n",
        "print(list(dict.values()))\n"
      ],
      "metadata": {
        "id": "iLU5qZsFnAxy"
      },
      "execution_count": null,
      "outputs": []
    },
    {
      "cell_type": "code",
      "source": [
        "# attempt 2 - using a different method instead of the sort:\n",
        "\n",
        "from collections import defaultdict\n",
        "strs = [\"eat\",\"tea\",\"tan\",\"ate\",\"nat\",\"bat\"]\n",
        "\n",
        "def signature(str):\n",
        "  count = [0] * 26\n",
        "  for c in str:\n",
        "    count[ord(c)-ord('a')]=count[ord(c)-ord('a')]+1\n",
        "  return tuple(count)\n",
        "\n",
        "dict=defaultdict(list)\n",
        "for s in strs:\n",
        "    # print(s,signature(s))\n",
        "    dict[signature(s)].append(s)\n",
        "\n",
        "print(dict.values())\n"
      ],
      "metadata": {
        "colab": {
          "base_uri": "https://localhost:8080/"
        },
        "id": "4nrPvPJCXLPJ",
        "outputId": "734a8f0a-5d67-4336-a44f-2a3d5e355e0d"
      },
      "execution_count": null,
      "outputs": [
        {
          "output_type": "stream",
          "name": "stdout",
          "text": [
            "dict_values([['eat', 'tea', 'ate'], ['tan', 'nat'], ['bat']])\n"
          ]
        }
      ]
    },
    {
      "cell_type": "markdown",
      "source": [
        "\n"
      ],
      "metadata": {
        "id": "hm1C4FiJxc-U"
      }
    },
    {
      "cell_type": "code",
      "source": [],
      "metadata": {
        "id": "43bKijTtmcxr"
      },
      "execution_count": null,
      "outputs": []
    }
  ]
}